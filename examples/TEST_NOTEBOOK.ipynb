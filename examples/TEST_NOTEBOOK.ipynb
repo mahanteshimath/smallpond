{
 "cells": [
  {
   "cell_type": "code",
   "execution_count": 1,
   "metadata": {},
   "outputs": [
    {
     "name": "stderr",
     "output_type": "stream",
     "text": [
      "/opt/conda/lib/python3.12/site-packages/tqdm/auto.py:21: TqdmWarning: IProgress not found. Please update jupyter and ipywidgets. See https://ipywidgets.readthedocs.io/en/stable/user_install.html\n",
      "  from .autonotebook import tqdm as notebook_tqdm\n",
      "2025-03-04 11:55:09,423\tINFO util.py:154 -- Missing packages: ['ipywidgets']. Run `pip install -U ipywidgets`, then restart the notebook server for rich notebook output.\n",
      "\u001b[32m2025-03-04 11:55:09.726\u001b[0m | \u001b[33m\u001b[1mWARNING \u001b[0m | \u001b[36msmallpond.platform.base\u001b[0m:\u001b[36mdefault_data_root\u001b[0m:\u001b[36m77\u001b[0m - \u001b[33m\u001b[1mdata root is not set, using default: /home/codespace/.smallpond/data\u001b[0m\n"
     ]
    },
    {
     "name": "stdout",
     "output_type": "stream",
     "text": [
      "[2025-03-04 11:55:09.749090] [codespaces-fd22fd] [MainProcess(13559)] [task.py:414] INFO initialized logging to file: /home/codespace/.smallpond/data/2025-03-04-11-55-09.543827a5-9596-453b-8f49-36ffa3926b60/log/codespaces-fd22fd.log\n",
      "[2025-03-04 11:55:09.758924] [codespaces-fd22fd] [MainProcess(13559)] [task.py:426] INFO initialized user logging to file: /home/codespace/.smallpond/data/2025-03-04-11-55-09.543827a5-9596-453b-8f49-36ffa3926b60/log/codespaces-fd22fd-user.log\n",
      "[2025-03-04 11:55:09.759333] [codespaces-fd22fd] [MainProcess(13559)] [task.py:371] INFO set environment variable 'LD_LIBRARY_PATH': '/opt/conda/lib:'\n",
      "[2025-03-04 11:55:09.759646] [codespaces-fd22fd] [MainProcess(13559)] [task.py:373] INFO RANK='' LD_LIBRARY_PATH='/opt/conda/lib:' LD_PRELOAD='' MALLOC_CONF=''\n",
      "[2025-03-04 11:55:09.759893] [codespaces-fd22fd] [MainProcess(13559)] [task.py:333] INFO smallpond version: 0.15.0\n",
      "[2025-03-04 11:55:09.760871] [codespaces-fd22fd] [MainProcess(13559)] [task.py:334] INFO runtime context:\n",
      "{'bind_numa_node': None,\n",
      " 'completed_task_dir': '/home/codespace/.smallpond/data/2025-03-04-11-55-09.543827a5-9596-453b-8f49-36ffa3926b60/staging/completed_tasks',\n",
      " 'config_root': '/home/codespace/.smallpond/data/2025-03-04-11-55-09.543827a5-9596-453b-8f49-36ffa3926b60/config',\n",
      " 'console_log_level': 'INFO',\n",
      " 'current_task': None,\n",
      " 'data_root': '/home/codespace/.smallpond/data',\n",
      " 'disable_log_rotation': False,\n",
      " 'enable_diagnostic_metrics': False,\n",
      " 'enable_profiling': False,\n",
      " 'enforce_memory_limit': False,\n",
      " 'env_overrides': {},\n",
      " 'fault_inject_prob': 0.0,\n",
      " 'file_log_level': 'DEBUG',\n",
      " 'final_output_path': None,\n",
      " 'job_id': JobId('543827a5-9596-453b-8f49-36ffa3926b60'),\n",
      " 'job_root': '/home/codespace/.smallpond/data/2025-03-04-11-55-09.543827a5-9596-453b-8f49-36ffa3926b60',\n",
      " 'job_time': datetime.datetime(2025, 3, 4, 11, 55, 9, 726277),\n",
      " 'log_root': '/home/codespace/.smallpond/data/2025-03-04-11-55-09.543827a5-9596-453b-8f49-36ffa3926b60/log',\n",
      " 'max_num_missed_probes': 6,\n",
      " 'max_usable_cpu_count': 1024,\n",
      " 'max_usable_gpu_count': 1024,\n",
      " 'max_usable_memory_size': 17592186044416,\n",
      " 'next_task_id': 0,\n",
      " 'num_executors': 0,\n",
      " 'numa_node_id': None,\n",
      " 'output_root': '/home/codespace/.smallpond/data/2025-03-04-11-55-09.543827a5-9596-453b-8f49-36ffa3926b60/output',\n",
      " 'queue_root': '/home/codespace/.smallpond/data/2025-03-04-11-55-09.543827a5-9596-453b-8f49-36ffa3926b60/queue',\n",
      " 'random_seed': 49600799365932339358097700583540508762467786891719938861687017017646201481342668889419150742455915478868770788236013937217903163603850053316060293595981359523009704279155198801742955424668736826991755301845506924303665183631707001945485180792102765645118765545895628152175549515910079756449305560157126508418,\n",
      " 'remove_empty_parquet': False,\n",
      " 'secs_executor_probe_interval': 30,\n",
      " 'secs_wq_poll_interval': 0.5,\n",
      " 'shared_log_root': None,\n",
      " 'skip_task_with_empty_input': False,\n",
      " 'staging_root': '/home/codespace/.smallpond/data/2025-03-04-11-55-09.543827a5-9596-453b-8f49-36ffa3926b60/staging',\n",
      " 'started_task_dir': '/home/codespace/.smallpond/data/2025-03-04-11-55-09.543827a5-9596-453b-8f49-36ffa3926b60/staging/started_tasks',\n",
      " 'temp_root': '/home/codespace/.smallpond/data/2025-03-04-11-55-09.543827a5-9596-453b-8f49-36ffa3926b60/temp'}\n",
      "[2025-03-04 11:55:09.783330] [codespaces-fd22fd] [MainProcess(13559)] [task.py:335] INFO local GPUs: []\n",
      "[2025-03-04 11:55:09.785286] [codespaces-fd22fd] [MainProcess(13559)] [session.py:55] INFO using platform: Platform\n",
      "[2025-03-04 11:55:09.786821] [codespaces-fd22fd] [MainProcess(13559)] [session.py:56] INFO command-line arguments: /home/codespace/.local/lib/python3.12/site-packages/ipykernel_launcher.py --f=/home/codespace/.local/share/jupyter/runtime/kernel-v3325aa946b4ac5d0ed594771d1b9abca69529358e.json\n",
      "[2025-03-04 11:55:09.788525] [codespaces-fd22fd] [MainProcess(13559)] [session.py:57] INFO session config: Config(job_id='543827a5-9596-453b-8f49-36ffa3926b60', job_time=datetime.datetime(2025, 3, 4, 11, 55, 9, 726277), data_root='/home/codespace/.smallpond/data', num_executors=0, ray_address=None, bind_numa_node=None, memory_allocator='system', remove_output_root=True)\n"
     ]
    },
    {
     "name": "stderr",
     "output_type": "stream",
     "text": [
      "2025-03-04 11:55:12,124\tWARNING services.py:2072 -- WARNING: The object store is using /tmp instead of /dev/shm because /dev/shm has only 66912256 bytes available. This will harm performance! You may be able to free up space by deleting files in /dev/shm. If you are inside a Docker container, you can increase /dev/shm size by passing '--shm-size=1.98gb' to 'docker run' (or add it to the run_options list in a Ray cluster config). Make sure to set this to more than 30% of available RAM.\n",
      "2025-03-04 11:55:13,204\tINFO worker.py:1832 -- Started a local Ray instance. View the dashboard at \u001b[1m\u001b[32mhttp://10.0.0.11:8008 \u001b[39m\u001b[22m\n"
     ]
    },
    {
     "name": "stdout",
     "output_type": "stream",
     "text": [
      "[2025-03-04 11:55:14.721270] [codespaces-fd22fd] [MainProcess(13559)] [session.py:115] INFO started ray cluster at 10.0.0.11:57938\n",
      "[2025-03-04 11:55:14.724211] [codespaces-fd22fd] [MainProcess(13559)] [session.py:200] WARNING prometheus is not found\n",
      "[2025-03-04 11:55:14.725935] [codespaces-fd22fd] [MainProcess(13559)] [session.py:220] WARNING grafana is not found\n"
     ]
    },
    {
     "name": "stdout",
     "output_type": "stream",
     "text": [
      "[2025-03-04 11:55:43.037747] [codespaces-fd22fd] [MainProcess(13559)] [dataframe.py:234] INFO optimizing\n",
      "SqlEngineNode-000002: input_deps=(DataSourceNode-000001,), output_name=None, tasks[0]=[]...[], resource_limit=1CPUs/0GPUs/0GB, sql_query=<SELECT * FROM {0} LIMIT 10...>, udfs=[], batched_processing=False, file= /tmp/ipykernel_13559/1650934184.py:2\n",
      "  DataSourceNode-000001: input_deps=[], output_name=None, tasks[0]=[]...[], resource_limit=1CPUs/0GPUs/0GB, dataset=<ParquetDataSet: paths[1]=['/workspaces/smallpond/prices.parquet']...', root_dir=/workspaces/smallpond/examples, columns=None, generated_columns=[]>, file= /tmp/ipykernel_13559/1650934184.py:1\n",
      "[2025-03-04 11:55:43.038687] [codespaces-fd22fd] [MainProcess(13559)] [dataframe.py:238] INFO optimized\n",
      "SqlEngineNode-000002: input_deps=[DataSourceNode-000001], output_name=None, tasks[0]=[]...[], resource_limit=1CPUs/0GPUs/0GB, sql_query=<SELECT * FROM {0} LIMIT 10...>, udfs=[], batched_processing=False, file= /tmp/ipykernel_13559/1650934184.py:2\n",
      "  DataSourceNode-000001: input_deps=[], output_name=None, tasks[0]=[]...[], resource_limit=1CPUs/0GPUs/0GB, dataset=<ParquetDataSet: paths[1]=['/workspaces/smallpond/prices.parquet']...', root_dir=/workspaces/smallpond/examples, columns=None, generated_columns=[]>, file= /tmp/ipykernel_13559/1650934184.py:1\n",
      "[2025-03-04 11:56:14.745774] [codespaces-fd22fd] [MainProcess(13559)] [session.py:264] WARNING graphviz is not installed, skipping graph dump\n",
      "[2025-03-04 11:56:15.748058] [codespaces-fd22fd] [MainProcess(13559)] [session.py:315] INFO progress: 2/2 tasks (100.0%)\n",
      "[2025-03-04 11:56:19.997151] [codespaces-fd22fd] [MainProcess(13559)] [dataframe.py:234] INFO optimizing\n",
      "SqlEngineNode-000004: input_deps=(DataSourceNode-000003,), output_name=None, tasks[0]=[]...[], resource_limit=1CPUs/0GPUs/0GB, sql_query=<SELECT * FROM {0} LIMIT 1000000...>, udfs=[], batched_processing=False, file= /tmp/ipykernel_13559/2369139217.py:2\n",
      "  DataSourceNode-000003: input_deps=[], output_name=None, tasks[0]=[]...[], resource_limit=1CPUs/0GPUs/0GB, dataset=<ParquetDataSet: paths[1]=['/workspaces/smallpond/prices.parquet']...', root_dir=/workspaces/smallpond/examples, columns=None, generated_columns=[]>, file= /tmp/ipykernel_13559/2369139217.py:1\n",
      "[2025-03-04 11:56:19.999457] [codespaces-fd22fd] [MainProcess(13559)] [dataframe.py:238] INFO optimized\n",
      "SqlEngineNode-000004: input_deps=[DataSourceNode-000003], output_name=None, tasks[0]=[]...[], resource_limit=1CPUs/0GPUs/0GB, sql_query=<SELECT * FROM {0} LIMIT 1000000...>, udfs=[], batched_processing=False, file= /tmp/ipykernel_13559/2369139217.py:2\n",
      "  DataSourceNode-000003: input_deps=[], output_name=None, tasks[0]=[]...[], resource_limit=1CPUs/0GPUs/0GB, dataset=<ParquetDataSet: paths[1]=['/workspaces/smallpond/prices.parquet']...', root_dir=/workspaces/smallpond/examples, columns=None, generated_columns=[]>, file= /tmp/ipykernel_13559/2369139217.py:1\n",
      "[2025-03-04 11:56:50.372818] [codespaces-fd22fd] [MainProcess(13559)] [dataframe.py:234] INFO optimizing\n",
      "SqlEngineNode-000006: input_deps=(DataSourceNode-000005,), output_name=None, tasks[0]=[]...[], resource_limit=1CPUs/0GPUs/0GB, sql_query=<SELECT count(*) FROM {0}...>, udfs=[], batched_processing=False, file= /tmp/ipykernel_13559/875168857.py:2\n",
      "  DataSourceNode-000005: input_deps=[], output_name=None, tasks[0]=[]...[], resource_limit=1CPUs/0GPUs/0GB, dataset=<ParquetDataSet: paths[1]=['/workspaces/smallpond/prices.parquet']...', root_dir=/workspaces/smallpond/examples, columns=None, generated_columns=[]>, file= /tmp/ipykernel_13559/875168857.py:1\n",
      "[2025-03-04 11:56:50.374717] [codespaces-fd22fd] [MainProcess(13559)] [dataframe.py:238] INFO optimized\n",
      "SqlEngineNode-000006: input_deps=[DataSourceNode-000005], output_name=None, tasks[0]=[]...[], resource_limit=1CPUs/0GPUs/0GB, sql_query=<SELECT count(*) FROM {0}...>, udfs=[], batched_processing=False, file= /tmp/ipykernel_13559/875168857.py:2\n",
      "  DataSourceNode-000005: input_deps=[], output_name=None, tasks[0]=[]...[], resource_limit=1CPUs/0GPUs/0GB, dataset=<ParquetDataSet: paths[1]=['/workspaces/smallpond/prices.parquet']...', root_dir=/workspaces/smallpond/examples, columns=None, generated_columns=[]>, file= /tmp/ipykernel_13559/875168857.py:1\n",
      "[2025-03-04 11:57:15.752309] [codespaces-fd22fd] [MainProcess(13559)] [session.py:264] WARNING graphviz is not installed, skipping graph dump\n",
      "[2025-03-04 11:57:16.755667] [codespaces-fd22fd] [MainProcess(13559)] [session.py:315] INFO progress: 6/6 tasks (100.0%)\n",
      "[2025-03-04 11:57:42.861298] [codespaces-fd22fd] [MainProcess(13559)] [dataframe.py:234] INFO optimizing\n",
      "SqlEngineNode-000008: input_deps=(DataSourceNode-000007,), output_name=None, tasks[0]=[]...[], resource_limit=1CPUs/0GPUs/0GB, sql_query=<SELECT count(*) count FROM {0}...>, udfs=[], batched_processing=False, file= /tmp/ipykernel_13559/537247462.py:2\n",
      "  DataSourceNode-000007: input_deps=[], output_name=None, tasks[0]=[]...[], resource_limit=1CPUs/0GPUs/0GB, dataset=<ParquetDataSet: paths[1]=['/workspaces/smallpond/prices.parquet']...', root_dir=/workspaces/smallpond/examples, columns=None, generated_columns=[]>, file= /tmp/ipykernel_13559/537247462.py:1\n",
      "[2025-03-04 11:57:42.862522] [codespaces-fd22fd] [MainProcess(13559)] [dataframe.py:238] INFO optimized\n",
      "SqlEngineNode-000008: input_deps=[DataSourceNode-000007], output_name=None, tasks[0]=[]...[], resource_limit=1CPUs/0GPUs/0GB, sql_query=<SELECT count(*) count FROM {0}...>, udfs=[], batched_processing=False, file= /tmp/ipykernel_13559/537247462.py:2\n",
      "  DataSourceNode-000007: input_deps=[], output_name=None, tasks[0]=[]...[], resource_limit=1CPUs/0GPUs/0GB, dataset=<ParquetDataSet: paths[1]=['/workspaces/smallpond/prices.parquet']...', root_dir=/workspaces/smallpond/examples, columns=None, generated_columns=[]>, file= /tmp/ipykernel_13559/537247462.py:1\n",
      "[2025-03-04 11:57:51.423607] [codespaces-fd22fd] [MainProcess(13559)] [dataframe.py:234] INFO optimizing\n",
      "SqlEngineNode-000010: input_deps=(DataSourceNode-000009,), output_name=None, tasks[0]=[]...[], resource_limit=1CPUs/0GPUs/0GB, sql_query=<SELECT count(*) count FROM {0}...>, udfs=[], batched_processing=False, file= /tmp/ipykernel_13559/537247462.py:2\n",
      "  DataSourceNode-000009: input_deps=[], output_name=None, tasks[0]=[]...[], resource_limit=1CPUs/0GPUs/0GB, dataset=<ParquetDataSet: paths[1]=['/workspaces/smallpond/prices.parquet']...', root_dir=/workspaces/smallpond/examples, columns=None, generated_columns=[]>, file= /tmp/ipykernel_13559/537247462.py:1\n",
      "[2025-03-04 11:57:51.424229] [codespaces-fd22fd] [MainProcess(13559)] [dataframe.py:238] INFO optimized\n",
      "SqlEngineNode-000010: input_deps=[DataSourceNode-000009], output_name=None, tasks[0]=[]...[], resource_limit=1CPUs/0GPUs/0GB, sql_query=<SELECT count(*) count FROM {0}...>, udfs=[], batched_processing=False, file= /tmp/ipykernel_13559/537247462.py:2\n",
      "  DataSourceNode-000009: input_deps=[], output_name=None, tasks[0]=[]...[], resource_limit=1CPUs/0GPUs/0GB, dataset=<ParquetDataSet: paths[1]=['/workspaces/smallpond/prices.parquet']...', root_dir=/workspaces/smallpond/examples, columns=None, generated_columns=[]>, file= /tmp/ipykernel_13559/537247462.py:1\n",
      "[2025-03-04 11:58:08.093632] [codespaces-fd22fd] [MainProcess(13559)] [dataframe.py:234] INFO optimizing\n",
      "SqlEngineNode-000012: input_deps=(DataSourceNode-000011,), output_name=None, tasks[0]=[]...[], resource_limit=1CPUs/0GPUs/0GB, sql_query=<SELECT 1 count FROM {0}...>, udfs=[], batched_processing=False, file= /tmp/ipykernel_13559/3918319494.py:2\n",
      "  DataSourceNode-000011: input_deps=[], output_name=None, tasks[0]=[]...[], resource_limit=1CPUs/0GPUs/0GB, dataset=<ParquetDataSet: paths[1]=['/workspaces/smallpond/prices.parquet']...', root_dir=/workspaces/smallpond/examples, columns=None, generated_columns=[]>, file= /tmp/ipykernel_13559/3918319494.py:1\n",
      "[2025-03-04 11:58:08.094011] [codespaces-fd22fd] [MainProcess(13559)] [dataframe.py:238] INFO optimized\n",
      "SqlEngineNode-000012: input_deps=[DataSourceNode-000011], output_name=None, tasks[0]=[]...[], resource_limit=1CPUs/0GPUs/0GB, sql_query=<SELECT 1 count FROM {0}...>, udfs=[], batched_processing=False, file= /tmp/ipykernel_13559/3918319494.py:2\n",
      "  DataSourceNode-000011: input_deps=[], output_name=None, tasks[0]=[]...[], resource_limit=1CPUs/0GPUs/0GB, dataset=<ParquetDataSet: paths[1]=['/workspaces/smallpond/prices.parquet']...', root_dir=/workspaces/smallpond/examples, columns=None, generated_columns=[]>, file= /tmp/ipykernel_13559/3918319494.py:1\n",
      "[2025-03-04 11:58:13.978790] [codespaces-fd22fd] [MainProcess(13559)] [dataframe.py:234] INFO optimizing\n",
      "SqlEngineNode-000014: input_deps=(DataSourceNode-000013,), output_name=None, tasks[0]=[]...[], resource_limit=1CPUs/0GPUs/0GB, sql_query=<SELECT * count FROM {0}...>, udfs=[], batched_processing=False, file= /tmp/ipykernel_13559/2210780446.py:2\n",
      "  DataSourceNode-000013: input_deps=[], output_name=None, tasks[0]=[]...[], resource_limit=1CPUs/0GPUs/0GB, dataset=<ParquetDataSet: paths[1]=['/workspaces/smallpond/prices.parquet']...', root_dir=/workspaces/smallpond/examples, columns=None, generated_columns=[]>, file= /tmp/ipykernel_13559/2210780446.py:1\n",
      "[2025-03-04 11:58:13.979369] [codespaces-fd22fd] [MainProcess(13559)] [dataframe.py:238] INFO optimized\n",
      "SqlEngineNode-000014: input_deps=[DataSourceNode-000013], output_name=None, tasks[0]=[]...[], resource_limit=1CPUs/0GPUs/0GB, sql_query=<SELECT * count FROM {0}...>, udfs=[], batched_processing=False, file= /tmp/ipykernel_13559/2210780446.py:2\n",
      "  DataSourceNode-000013: input_deps=[], output_name=None, tasks[0]=[]...[], resource_limit=1CPUs/0GPUs/0GB, dataset=<ParquetDataSet: paths[1]=['/workspaces/smallpond/prices.parquet']...', root_dir=/workspaces/smallpond/examples, columns=None, generated_columns=[]>, file= /tmp/ipykernel_13559/2210780446.py:1\n",
      "[2025-03-04 11:58:16.760850] [codespaces-fd22fd] [MainProcess(13559)] [session.py:264] WARNING graphviz is not installed, skipping graph dump\n",
      "[2025-03-04 11:58:17.765058] [codespaces-fd22fd] [MainProcess(13559)] [session.py:315] INFO progress: 14/14 tasks (100.0%)\n",
      "[2025-03-04 11:58:25.272006] [codespaces-fd22fd] [MainProcess(13559)] [dataframe.py:234] INFO optimizing\n",
      "SqlEngineNode-000016: input_deps=(DataSourceNode-000015,), output_name=None, tasks[0]=[]...[], resource_limit=1CPUs/0GPUs/0GB, sql_query=<SELECT *  FROM {0}...>, udfs=[], batched_processing=False, file= /tmp/ipykernel_13559/1042017654.py:2\n",
      "  DataSourceNode-000015: input_deps=[], output_name=None, tasks[0]=[]...[], resource_limit=1CPUs/0GPUs/0GB, dataset=<ParquetDataSet: paths[1]=['/workspaces/smallpond/prices.parquet']...', root_dir=/workspaces/smallpond/examples, columns=None, generated_columns=[]>, file= /tmp/ipykernel_13559/1042017654.py:1\n",
      "[2025-03-04 11:58:25.273236] [codespaces-fd22fd] [MainProcess(13559)] [dataframe.py:238] INFO optimized\n",
      "SqlEngineNode-000016: input_deps=[DataSourceNode-000015], output_name=None, tasks[0]=[]...[], resource_limit=1CPUs/0GPUs/0GB, sql_query=<SELECT *  FROM {0}...>, udfs=[], batched_processing=False, file= /tmp/ipykernel_13559/1042017654.py:2\n",
      "  DataSourceNode-000015: input_deps=[], output_name=None, tasks[0]=[]...[], resource_limit=1CPUs/0GPUs/0GB, dataset=<ParquetDataSet: paths[1]=['/workspaces/smallpond/prices.parquet']...', root_dir=/workspaces/smallpond/examples, columns=None, generated_columns=[]>, file= /tmp/ipykernel_13559/1042017654.py:1\n"
     ]
    }
   ],
   "source": [
    "import smallpond\n",
    "sp = smallpond.init()"
   ]
  },
  {
   "cell_type": "code",
   "execution_count": 9,
   "metadata": {},
   "outputs": [
    {
     "name": "stdout",
     "output_type": "stream",
     "text": [
      "  ticker                when  price\n",
      "0   APPL 2001-01-01 00:00:00      1\n",
      "1   APPL 2001-01-01 00:01:00      2\n",
      "2   APPL 2001-01-01 00:02:00      3\n",
      "3   MSFT 2001-01-01 00:00:00      1\n",
      "4   MSFT 2001-01-01 00:01:00      2\n",
      "5   MSFT 2001-01-01 00:02:00      3\n",
      "6   GOOG 2001-01-01 00:00:00      1\n",
      "7   GOOG 2001-01-01 00:01:00      2\n",
      "8   GOOG 2001-01-01 00:02:00      3\n"
     ]
    }
   ],
   "source": [
    "\n",
    "\n",
    "df = sp.read_parquet(\"/workspaces/smallpond/prices.parquet\")\n",
    "df = sp.partial_sql(\"SELECT *  FROM {0} \", df)\n",
    "print(df.to_pandas())"
   ]
  },
  {
   "cell_type": "code",
   "execution_count": null,
   "metadata": {},
   "outputs": [],
   "source": []
  },
  {
   "cell_type": "code",
   "execution_count": null,
   "metadata": {},
   "outputs": [],
   "source": []
  }
 ],
 "metadata": {
  "kernelspec": {
   "display_name": "base",
   "language": "python",
   "name": "python3"
  },
  "language_info": {
   "codemirror_mode": {
    "name": "ipython",
    "version": 3
   },
   "file_extension": ".py",
   "mimetype": "text/x-python",
   "name": "python",
   "nbconvert_exporter": "python",
   "pygments_lexer": "ipython3",
   "version": "3.12.3"
  }
 },
 "nbformat": 4,
 "nbformat_minor": 2
}
